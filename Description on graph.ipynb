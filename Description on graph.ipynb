{
 "cells": [
  {
   "cell_type": "markdown",
   "id": "9e3d0c1c-4de2-4cda-8854-6cb4bbd8c2f2",
   "metadata": {},
   "source": [
    "### UG LOGO\n",
    "---\n",
    "![UG LOGO](./download.png)\n",
    "\n",
    "### SES LOGO\n",
    "---\n",
    "![SES LOGO](./download.jpeg)"
   ]
  },
  {
   "cell_type": "markdown",
   "id": "af1aeb93-36c6-457b-a761-9dceee93cb75",
   "metadata": {},
   "source": [
    "# UNIVERSITY OF GHANA\n",
    "---\n",
    "## SCHOOL OF ENGINEERING SCIENCE\n",
    "### TOUSSAINT AFADOLO\n",
    "### 11254285\n",
    "### MATERIALS SCIENCE AND ENGINEERING"
   ]
  },
  {
   "cell_type": "markdown",
   "id": "f530f005-b47c-426b-b987-fe94fbd5cc90",
   "metadata": {},
   "source": [
    "\n",
    "\n",
    "\n",
    "\n",
    "          "
   ]
  },
  {
   "cell_type": "markdown",
   "id": "f57df8cf-5bf7-4f58-ad27-3c2f8ae7a4dd",
   "metadata": {},
   "source": [
    "\n",
    "\n",
    "\n",
    "### BAR GRAPH\n",
    "---\n",
    "![BAR GAPH](./Graph1.png)"
   ]
  },
  {
   "cell_type": "markdown",
   "id": "242e0f07-00f3-45f0-b842-fc6947bacf84",
   "metadata": {},
   "source": [
    "## BAR GRAPH DISCUSSION\n",
    "This particular bar graph depicts the amount of red wine and its alcohol content, which are the two variables of the dataset. The alcohol content categories are presented on the x-axis, while the quantity is illustrated on the y-axis.\n",
    "\n",
    "The quality scores are skewed to the left, indicating that most wines have scores ranging from 3-5, suggesting that the majority of wines in the dataset have an average quality.\n",
    "\n",
    "Only a few wines have very low quality scores. The dataset has a limited number of both exceptional and inferior quality wines. The majority of wines are clustered in the acceptable to good quality range.\n",
    "\n",
    "It is not possible to make definite conclusions regarding the overall distribution of wine quality based on this sample. "
   ]
  },
  {
   "cell_type": "markdown",
   "id": "fc9f369d-aa37-4cc4-b0d7-a92cbc2b0ee5",
   "metadata": {},
   "source": [
    "           "
   ]
  },
  {
   "cell_type": "markdown",
   "id": "2ee47c7b-7ad0-4dc9-a583-e20d2f6537db",
   "metadata": {},
   "source": [
    "### SCATTER GRAPH\n",
    "![SCATTER GRAPH](./Graph2.png)"
   ]
  },
  {
   "cell_type": "markdown",
   "id": "740ed29a-d65c-46cc-86b8-3dfd1931fc59",
   "metadata": {},
   "source": [
    "## SCATTER DIAGRAM DISCUSSION\n",
    "There exists a slight positive association between alcohol content and quality, with wines containing higher alcohol levels generally receiving higher quality ratings. Nonetheless, this correlation is not particularly strong, implying that quality is not solely determined by alcohol content but is also influenced by other characteristics such as aroma, flavor, acidity, and tannins."
   ]
  },
  {
   "cell_type": "code",
   "execution_count": null,
   "id": "2c75bd87-07dd-4856-88cf-3db30abf8b91",
   "metadata": {},
   "outputs": [],
   "source": []
  }
 ],
 "metadata": {
  "kernelspec": {
   "display_name": "Python 3 (ipykernel)",
   "language": "python",
   "name": "python3"
  },
  "language_info": {
   "codemirror_mode": {
    "name": "ipython",
    "version": 3
   },
   "file_extension": ".py",
   "mimetype": "text/x-python",
   "name": "python",
   "nbconvert_exporter": "python",
   "pygments_lexer": "ipython3",
   "version": "3.12.0"
  }
 },
 "nbformat": 4,
 "nbformat_minor": 5
}
